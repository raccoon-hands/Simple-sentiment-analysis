{
  "cells": [
    {
      "cell_type": "markdown",
      "id": "986d7032",
      "metadata": {
        "id": "986d7032"
      },
      "source": [
        "# NLP AE1\n",
        "#### Student ID: 23220004"
      ]
    },
    {
      "cell_type": "markdown",
      "id": "6eec12f9",
      "metadata": {
        "id": "6eec12f9"
      },
      "source": [
        "## Sentiment Analysis assignment\n",
        "This assignment starts by exploring practical implementations of NER and POS on a sentiment analysis dataset. Then two sentiment analysis tasks are carried out on different datasets: Logistic Regression is used for the Amazon reviews dataset, and a bi-directional RNN with LSTM is used for the Movie reviews dataset.\n",
        "\n",
        "\n"
      ]
    },
    {
      "cell_type": "markdown",
      "id": "13421a0b",
      "metadata": {
        "id": "13421a0b"
      },
      "source": [
        "## Coding Questions\n",
        "NER and POS are most effective when used on full sentences rather than single-word tokens and when the punctuation and capitalisation of words is intact. Therefore, I will do the NER and POS tasks first, then clean and tokenise the data ready for sentiment analysis.\n",
        "\n",
        "### Data\n",
        "The dataset is available at: https://www.kaggle.com/code/pradeepkumar7661/sentiment-analysis-on-consumer-reviews/input\n",
        "\n",
        "The file I will be using from this dataset is 1429_1.csv. It contains many columns with information about the product being reviewed, the actual product listing and the reviews themselves.\n",
        "\n",
        "For my sentiment analysis, the only columns I am concerned with are \"reviews.text\" which contain the body text of the reviews, and \"reviews.doRecommend\" which shows TRUE or FALSE for whether the review recommends the product- this can be used as a sentiment label.\n",
        "\n",
        "The text data from the \"reviews.text\" column is also what I will be using for the NER and POS exercises."
      ]
    },
    {
      "cell_type": "code",
      "execution_count": null,
      "id": "05eae38e",
      "metadata": {
        "id": "05eae38e",
        "outputId": "1766e0de-4b99-44a4-b275-91208cff79e9"
      },
      "outputs": [
        {
          "name": "stderr",
          "output_type": "stream",
          "text": [
            "2024-03-09 02:38:48.177629: W tensorflow/stream_executor/platform/default/dso_loader.cc:64] Could not load dynamic library 'libcudart.so.11.0'; dlerror: libcudart.so.11.0: cannot open shared object file: No such file or directory\n",
            "2024-03-09 02:38:48.177649: I tensorflow/stream_executor/cuda/cudart_stub.cc:29] Ignore above cudart dlerror if you do not have a GPU set up on your machine.\n",
            "[nltk_data] Downloading package wordnet to /home/dawn/nltk_data...\n",
            "[nltk_data]   Package wordnet is already up-to-date!\n"
          ]
        },
        {
          "data": {
            "text/plain": [
              "True"
            ]
          },
          "execution_count": 1,
          "metadata": {},
          "output_type": "execute_result"
        }
      ],
      "source": [
        "# Import statements\n",
        "# A couple of these are unused in the final version of the code but I did use\n",
        "# All of them for experimenting. Seeing as this code will not be run when marked, I will\n",
        "# keep all the imports in.\n",
        "import pandas as pd\n",
        "import spacy\n",
        "import time\n",
        "from datetime import timedelta\n",
        "from collections import Counter\n",
        "from matplotlib import pyplot as plt\n",
        "from sklearn.linear_model import LogisticRegression\n",
        "from sklearn.model_selection import GridSearchCV\n",
        "import string\n",
        "import nltk\n",
        "import contractions\n",
        "import re\n",
        "import numpy as np\n",
        "from sklearn.feature_extraction.text import ENGLISH_STOP_WORDS\n",
        "from nltk.stem import WordNetLemmatizer\n",
        "from sklearn.model_selection import train_test_split\n",
        "from sklearn.feature_extraction.text import TfidfVectorizer\n",
        "from sklearn.feature_extraction.text import CountVectorizer\n",
        "from sklearn.metrics import classification_report\n",
        "from gensim.models import Word2Vec\n",
        "from tensorflow.keras.preprocessing.sequence import pad_sequences\n",
        "import tensorflow as tf\n",
        "nltk.download('wordnet')"
      ]
    },
    {
      "cell_type": "code",
      "execution_count": null,
      "id": "4c854649",
      "metadata": {
        "id": "4c854649"
      },
      "outputs": [],
      "source": [
        "sp = spacy.load('en_core_web_sm')"
      ]
    },
    {
      "cell_type": "code",
      "execution_count": null,
      "id": "302b7b8d",
      "metadata": {
        "scrolled": true,
        "id": "302b7b8d",
        "outputId": "99abf689-c71f-4067-aa11-b04431d2b35a"
      },
      "outputs": [
        {
          "data": {
            "text/html": [
              "<div>\n",
              "<style scoped>\n",
              "    .dataframe tbody tr th:only-of-type {\n",
              "        vertical-align: middle;\n",
              "    }\n",
              "\n",
              "    .dataframe tbody tr th {\n",
              "        vertical-align: top;\n",
              "    }\n",
              "\n",
              "    .dataframe thead th {\n",
              "        text-align: right;\n",
              "    }\n",
              "</style>\n",
              "<table border=\"1\" class=\"dataframe\">\n",
              "  <thead>\n",
              "    <tr style=\"text-align: right;\">\n",
              "      <th></th>\n",
              "      <th>reviews.doRecommend</th>\n",
              "      <th>reviews.text</th>\n",
              "    </tr>\n",
              "  </thead>\n",
              "  <tbody>\n",
              "    <tr>\n",
              "      <th>0</th>\n",
              "      <td>True</td>\n",
              "      <td>This product so far has not disappointed. My c...</td>\n",
              "    </tr>\n",
              "    <tr>\n",
              "      <th>1</th>\n",
              "      <td>True</td>\n",
              "      <td>great for beginner or experienced person. Boug...</td>\n",
              "    </tr>\n",
              "    <tr>\n",
              "      <th>2</th>\n",
              "      <td>True</td>\n",
              "      <td>Inexpensive tablet for him to use and learn on...</td>\n",
              "    </tr>\n",
              "    <tr>\n",
              "      <th>3</th>\n",
              "      <td>True</td>\n",
              "      <td>I've had my Fire HD 8 two weeks now and I love...</td>\n",
              "    </tr>\n",
              "    <tr>\n",
              "      <th>4</th>\n",
              "      <td>True</td>\n",
              "      <td>I bought this for my grand daughter when she c...</td>\n",
              "    </tr>\n",
              "  </tbody>\n",
              "</table>\n",
              "</div>"
            ],
            "text/plain": [
              "  reviews.doRecommend                                       reviews.text\n",
              "0                True  This product so far has not disappointed. My c...\n",
              "1                True  great for beginner or experienced person. Boug...\n",
              "2                True  Inexpensive tablet for him to use and learn on...\n",
              "3                True  I've had my Fire HD 8 two weeks now and I love...\n",
              "4                True  I bought this for my grand daughter when she c..."
            ]
          },
          "execution_count": 3,
          "metadata": {},
          "output_type": "execute_result"
        }
      ],
      "source": [
        "# Read the relevent columns from the dataset into a DataFrame\n",
        "amzn_df = pd.read_csv(\"1429_1.csv\", usecols=[\"reviews.text\", \"reviews.doRecommend\"])\n",
        "amzn_df.head()"
      ]
    },
    {
      "cell_type": "code",
      "execution_count": null,
      "id": "1d8d34f5",
      "metadata": {
        "id": "1d8d34f5",
        "outputId": "6540ba94-b035-4a3c-8f32-4b840776d274"
      },
      "outputs": [
        {
          "data": {
            "text/plain": [
              "34660"
            ]
          },
          "execution_count": 4,
          "metadata": {},
          "output_type": "execute_result"
        }
      ],
      "source": [
        "# checking how many reviews are in the dataset\n",
        "len(amzn_df[\"reviews.text\"])"
      ]
    },
    {
      "cell_type": "code",
      "execution_count": null,
      "id": "cf04c4aa",
      "metadata": {
        "id": "cf04c4aa",
        "outputId": "ab5d6ba0-0abf-486d-f35d-2fef63c50e00"
      },
      "outputs": [
        {
          "data": {
            "text/plain": [
              "dtype('O')"
            ]
          },
          "execution_count": 5,
          "metadata": {},
          "output_type": "execute_result"
        }
      ],
      "source": [
        "# Change datatype of reviews.text to string to make sure spacey can process it\n",
        "amzn_df[\"reviews.text\"] = amzn_df[\"reviews.text\"].astype(str)\n",
        "amzn_df[\"reviews.text\"].dtype"
      ]
    },
    {
      "cell_type": "code",
      "execution_count": null,
      "id": "071a5285",
      "metadata": {
        "id": "071a5285"
      },
      "outputs": [],
      "source": [
        "# Linear Regression wants my labels to be binary so I will change that\n",
        "amzn_df[\"reviews.doRecommend\"].replace(True, 1, inplace=True)\n",
        "amzn_df[\"reviews.doRecommend\"].replace(False, 0, inplace=True)"
      ]
    },
    {
      "cell_type": "code",
      "execution_count": null,
      "id": "de33d6b3",
      "metadata": {
        "id": "de33d6b3",
        "outputId": "accf24b1-2f7a-4cdf-f994-f47456a7e424"
      },
      "outputs": [
        {
          "data": {
            "text/html": [
              "<div>\n",
              "<style scoped>\n",
              "    .dataframe tbody tr th:only-of-type {\n",
              "        vertical-align: middle;\n",
              "    }\n",
              "\n",
              "    .dataframe tbody tr th {\n",
              "        vertical-align: top;\n",
              "    }\n",
              "\n",
              "    .dataframe thead th {\n",
              "        text-align: right;\n",
              "    }\n",
              "</style>\n",
              "<table border=\"1\" class=\"dataframe\">\n",
              "  <thead>\n",
              "    <tr style=\"text-align: right;\">\n",
              "      <th></th>\n",
              "      <th>reviews.doRecommend</th>\n",
              "      <th>reviews.text</th>\n",
              "    </tr>\n",
              "  </thead>\n",
              "  <tbody>\n",
              "    <tr>\n",
              "      <th>0</th>\n",
              "      <td>1.0</td>\n",
              "      <td>This product so far has not disappointed. My c...</td>\n",
              "    </tr>\n",
              "    <tr>\n",
              "      <th>1</th>\n",
              "      <td>1.0</td>\n",
              "      <td>great for beginner or experienced person. Boug...</td>\n",
              "    </tr>\n",
              "    <tr>\n",
              "      <th>2</th>\n",
              "      <td>1.0</td>\n",
              "      <td>Inexpensive tablet for him to use and learn on...</td>\n",
              "    </tr>\n",
              "    <tr>\n",
              "      <th>3</th>\n",
              "      <td>1.0</td>\n",
              "      <td>I've had my Fire HD 8 two weeks now and I love...</td>\n",
              "    </tr>\n",
              "    <tr>\n",
              "      <th>4</th>\n",
              "      <td>1.0</td>\n",
              "      <td>I bought this for my grand daughter when she c...</td>\n",
              "    </tr>\n",
              "  </tbody>\n",
              "</table>\n",
              "</div>"
            ],
            "text/plain": [
              "   reviews.doRecommend                                       reviews.text\n",
              "0                  1.0  This product so far has not disappointed. My c...\n",
              "1                  1.0  great for beginner or experienced person. Boug...\n",
              "2                  1.0  Inexpensive tablet for him to use and learn on...\n",
              "3                  1.0  I've had my Fire HD 8 two weeks now and I love...\n",
              "4                  1.0  I bought this for my grand daughter when she c..."
            ]
          },
          "execution_count": 7,
          "metadata": {},
          "output_type": "execute_result"
        }
      ],
      "source": [
        "amzn_df.head()"
      ]
    },
    {
      "cell_type": "markdown",
      "id": "8c47225c",
      "metadata": {
        "id": "8c47225c"
      },
      "source": [
        "### Part of Speech Tagging"
      ]
    },
    {
      "cell_type": "markdown",
      "id": "14dd96b4",
      "metadata": {
        "id": "14dd96b4"
      },
      "source": [
        "As the task is to assign each review POS tags and NER labels, I will create new columns in the dataframe to hold these tags and labels so they may be easily accessed for each word in each review.\n",
        "\n",
        "However, it would be easier to do frequency analysis on one large list of tags and one of labels, so I will also be creating those at the same time as I create the columns."
      ]
    },
    {
      "cell_type": "code",
      "execution_count": null,
      "id": "5dd0ec1b",
      "metadata": {
        "id": "5dd0ec1b",
        "outputId": "163fd91a-5012-4206-aac6-a5c017108d4f"
      },
      "outputs": [
        {
          "name": "stdout",
          "output_type": "stream",
          "text": [
            "DT\n",
            "NN\n",
            "RB\n",
            "RB\n",
            "VBZ\n",
            "RB\n",
            "VBN\n",
            ".\n",
            "PRP$\n",
            "NNS\n",
            "VBP\n",
            "TO\n",
            "VB\n",
            "PRP\n",
            "CC\n",
            "PRP\n",
            "VBP\n",
            "DT\n",
            "NN\n",
            "TO\n",
            "VB\n",
            "NN\n",
            "WP\n",
            "NN\n",
            "PRP\n",
            "VBP\n",
            "IN\n",
            "NN\n",
            ".\n"
          ]
        }
      ],
      "source": [
        "# Testing how to tag every word in a review\n",
        "sen = sp(\"This product so far has not disappointed. My children love to use it and I like the ability to monitor control what content they see with ease.\")\n",
        "for word in sen:\n",
        "    print(word.tag_)"
      ]
    },
    {
      "cell_type": "code",
      "execution_count": null,
      "id": "76c19b88",
      "metadata": {
        "id": "76c19b88",
        "outputId": "690e32d8-8500-4aeb-a990-230fc700420b"
      },
      "outputs": [
        {
          "name": "stdout",
          "output_type": "stream",
          "text": [
            "Time elapsed: 0:00:06.892842 Entries Complete: 1000\n",
            "Time elapsed: 0:00:13.383821 Entries Complete: 2000\n",
            "Time elapsed: 0:00:20.937330 Entries Complete: 3000\n",
            "Time elapsed: 0:00:26.798572 Entries Complete: 4000\n",
            "Time elapsed: 0:00:33.358121 Entries Complete: 5000\n",
            "Time elapsed: 0:00:40.040071 Entries Complete: 6000\n",
            "Time elapsed: 0:00:46.436373 Entries Complete: 7000\n",
            "Time elapsed: 0:00:52.511618 Entries Complete: 8000\n",
            "Time elapsed: 0:00:58.638657 Entries Complete: 9000\n",
            "Time elapsed: 0:01:05.092308 Entries Complete: 10000\n",
            "Time elapsed: 0:01:11.540362 Entries Complete: 11000\n",
            "Time elapsed: 0:01:18.291025 Entries Complete: 12000\n",
            "Time elapsed: 0:01:24.794332 Entries Complete: 13000\n",
            "Time elapsed: 0:01:30.868787 Entries Complete: 14000\n",
            "Time elapsed: 0:01:37.564564 Entries Complete: 15000\n",
            "Time elapsed: 0:01:43.911122 Entries Complete: 16000\n",
            "Time elapsed: 0:01:50.235153 Entries Complete: 17000\n",
            "Time elapsed: 0:01:57.295599 Entries Complete: 18000\n",
            "Time elapsed: 0:02:04.239083 Entries Complete: 19000\n",
            "Time elapsed: 0:02:10.968748 Entries Complete: 20000\n",
            "Time elapsed: 0:02:18.100350 Entries Complete: 21000\n",
            "Time elapsed: 0:02:25.154112 Entries Complete: 22000\n",
            "Time elapsed: 0:02:31.843286 Entries Complete: 23000\n",
            "Time elapsed: 0:02:38.557315 Entries Complete: 24000\n",
            "Time elapsed: 0:02:45.421625 Entries Complete: 25000\n",
            "Time elapsed: 0:02:52.233285 Entries Complete: 26000\n",
            "Time elapsed: 0:02:59.040741 Entries Complete: 27000\n",
            "Time elapsed: 0:03:06.261918 Entries Complete: 28000\n",
            "Time elapsed: 0:03:13.816675 Entries Complete: 29000\n",
            "Time elapsed: 0:03:21.007577 Entries Complete: 30000\n",
            "Time elapsed: 0:03:27.497734 Entries Complete: 31000\n",
            "Time elapsed: 0:03:34.158699 Entries Complete: 32000\n",
            "Time elapsed: 0:03:40.555151 Entries Complete: 33000\n",
            "Time elapsed: 0:03:47.384928 Entries Complete: 34000\n",
            "Process complete.\n"
          ]
        }
      ],
      "source": [
        "# Initialise list to contain all pos tags (for frequency analysis)\n",
        "tags = []\n",
        "# Initialise list which will become the pos.tags column (to ASSIGN TAGS TO WORDS in each review)\n",
        "pos_tags_column = []\n",
        "\n",
        "# I'm keeping track of time elapsed/ entries processed because my laptop is slow\n",
        "# and I like to know how long things take\n",
        "count = 0\n",
        "start = time.time()\n",
        "\n",
        "#iterate through each review\n",
        "for index, row in amzn_df.loc[:, [\"reviews.text\"]].iterrows():\n",
        "    # initialise empty dict\n",
        "    pos_dict = {}\n",
        "    review = sp(row[\"reviews.text\"])\n",
        "    #for each word in review:\n",
        "    for word in review:\n",
        "        # add word and tag to dict, add tag to tags list\n",
        "        pos_dict[word] = word.tag_\n",
        "        tags.append(word.tag_)\n",
        "    # add the dict for this review to the pos.tags column list\n",
        "    pos_tags_column.append(pos_dict)\n",
        "    # time & entries\n",
        "    sec = time.time() - start\n",
        "    count = count + 1\n",
        "    if count%1000==0:\n",
        "        print(\"Time elapsed:\", (timedelta(seconds=sec)), \"Entries Complete:\", count)\n",
        "\n",
        "print(\"Process complete.\")"
      ]
    },
    {
      "cell_type": "code",
      "execution_count": null,
      "id": "d263c12b",
      "metadata": {
        "id": "d263c12b",
        "outputId": "343a9838-49eb-4fd7-9119-81496a7747eb"
      },
      "outputs": [
        {
          "data": {
            "text/html": [
              "<div>\n",
              "<style scoped>\n",
              "    .dataframe tbody tr th:only-of-type {\n",
              "        vertical-align: middle;\n",
              "    }\n",
              "\n",
              "    .dataframe tbody tr th {\n",
              "        vertical-align: top;\n",
              "    }\n",
              "\n",
              "    .dataframe thead th {\n",
              "        text-align: right;\n",
              "    }\n",
              "</style>\n",
              "<table border=\"1\" class=\"dataframe\">\n",
              "  <thead>\n",
              "    <tr style=\"text-align: right;\">\n",
              "      <th></th>\n",
              "      <th>reviews.doRecommend</th>\n",
              "      <th>reviews.text</th>\n",
              "      <th>pos.tags</th>\n",
              "    </tr>\n",
              "  </thead>\n",
              "  <tbody>\n",
              "    <tr>\n",
              "      <th>0</th>\n",
              "      <td>1.0</td>\n",
              "      <td>This product so far has not disappointed. My c...</td>\n",
              "      <td>{This: 'DT', product: 'NN', so: 'RB', far: 'RB...</td>\n",
              "    </tr>\n",
              "    <tr>\n",
              "      <th>1</th>\n",
              "      <td>1.0</td>\n",
              "      <td>great for beginner or experienced person. Boug...</td>\n",
              "      <td>{great: 'JJ', for: 'IN', beginner: 'NN', or: '...</td>\n",
              "    </tr>\n",
              "    <tr>\n",
              "      <th>2</th>\n",
              "      <td>1.0</td>\n",
              "      <td>Inexpensive tablet for him to use and learn on...</td>\n",
              "      <td>{Inexpensive: 'JJ', tablet: 'NN', for: 'IN', h...</td>\n",
              "    </tr>\n",
              "    <tr>\n",
              "      <th>3</th>\n",
              "      <td>1.0</td>\n",
              "      <td>I've had my Fire HD 8 two weeks now and I love...</td>\n",
              "      <td>{I: 'PRP', 've: 'VBP', had: 'VBN', my: 'PRP$',...</td>\n",
              "    </tr>\n",
              "    <tr>\n",
              "      <th>4</th>\n",
              "      <td>1.0</td>\n",
              "      <td>I bought this for my grand daughter when she c...</td>\n",
              "      <td>{I: 'PRP', bought: 'VBD', this: 'DT', for: 'IN...</td>\n",
              "    </tr>\n",
              "  </tbody>\n",
              "</table>\n",
              "</div>"
            ],
            "text/plain": [
              "   reviews.doRecommend                                       reviews.text  \\\n",
              "0                  1.0  This product so far has not disappointed. My c...   \n",
              "1                  1.0  great for beginner or experienced person. Boug...   \n",
              "2                  1.0  Inexpensive tablet for him to use and learn on...   \n",
              "3                  1.0  I've had my Fire HD 8 two weeks now and I love...   \n",
              "4                  1.0  I bought this for my grand daughter when she c...   \n",
              "\n",
              "                                            pos.tags  \n",
              "0  {This: 'DT', product: 'NN', so: 'RB', far: 'RB...  \n",
              "1  {great: 'JJ', for: 'IN', beginner: 'NN', or: '...  \n",
              "2  {Inexpensive: 'JJ', tablet: 'NN', for: 'IN', h...  \n",
              "3  {I: 'PRP', 've: 'VBP', had: 'VBN', my: 'PRP$',...  \n",
              "4  {I: 'PRP', bought: 'VBD', this: 'DT', for: 'IN...  "
            ]
          },
          "execution_count": 10,
          "metadata": {},
          "output_type": "execute_result"
        }
      ],
      "source": [
        "amzn_df[\"pos.tags\"] = pos_tags_column\n",
        "amzn_df.head()"
      ]
    },
    {
      "cell_type": "markdown",
      "id": "f1527aec",
      "metadata": {
        "id": "f1527aec"
      },
      "source": [
        "### Named Entity Recognition"
      ]
    },
    {
      "cell_type": "code",
      "execution_count": null,
      "id": "b7ef829c",
      "metadata": {
        "id": "b7ef829c",
        "outputId": "fbe28b02-6f16-47d2-d7c1-f884cfd1fa97"
      },
      "outputs": [
        {
          "name": "stdout",
          "output_type": "stream",
          "text": [
            "Time elapsed: 0:00:06.725505 Entries Complete: 1000\n",
            "Time elapsed: 0:00:13.220857 Entries Complete: 2000\n",
            "Time elapsed: 0:00:20.537875 Entries Complete: 3000\n",
            "Time elapsed: 0:00:26.306559 Entries Complete: 4000\n",
            "Time elapsed: 0:00:32.846311 Entries Complete: 5000\n",
            "Time elapsed: 0:00:39.561536 Entries Complete: 6000\n",
            "Time elapsed: 0:00:46.036213 Entries Complete: 7000\n",
            "Time elapsed: 0:00:52.153746 Entries Complete: 8000\n",
            "Time elapsed: 0:00:58.493588 Entries Complete: 9000\n",
            "Time elapsed: 0:01:04.855975 Entries Complete: 10000\n",
            "Time elapsed: 0:01:11.121012 Entries Complete: 11000\n",
            "Time elapsed: 0:01:17.776208 Entries Complete: 12000\n",
            "Time elapsed: 0:01:24.244065 Entries Complete: 13000\n",
            "Time elapsed: 0:01:30.282187 Entries Complete: 14000\n",
            "Time elapsed: 0:01:36.988502 Entries Complete: 15000\n",
            "Time elapsed: 0:01:43.295480 Entries Complete: 16000\n",
            "Time elapsed: 0:01:49.558629 Entries Complete: 17000\n",
            "Time elapsed: 0:01:56.247690 Entries Complete: 18000\n",
            "Time elapsed: 0:02:03.117194 Entries Complete: 19000\n",
            "Time elapsed: 0:02:10.140819 Entries Complete: 20000\n",
            "Time elapsed: 0:02:17.201460 Entries Complete: 21000\n",
            "Time elapsed: 0:02:24.221990 Entries Complete: 22000\n",
            "Time elapsed: 0:02:30.526259 Entries Complete: 23000\n",
            "Time elapsed: 0:02:37.077890 Entries Complete: 24000\n",
            "Time elapsed: 0:02:43.837229 Entries Complete: 25000\n",
            "Time elapsed: 0:02:50.283244 Entries Complete: 26000\n",
            "Time elapsed: 0:02:56.928046 Entries Complete: 27000\n",
            "Time elapsed: 0:03:03.965248 Entries Complete: 28000\n",
            "Time elapsed: 0:03:11.397471 Entries Complete: 29000\n",
            "Time elapsed: 0:03:18.113559 Entries Complete: 30000\n",
            "Time elapsed: 0:03:24.238876 Entries Complete: 31000\n",
            "Time elapsed: 0:03:30.314586 Entries Complete: 32000\n",
            "Time elapsed: 0:03:36.403437 Entries Complete: 33000\n",
            "Time elapsed: 0:03:42.850157 Entries Complete: 34000\n",
            "Process complete.\n"
          ]
        }
      ],
      "source": [
        "# Similar code to POS - adding a dict to assign NER labels to each review\n",
        "# also making a big list for frequency analysis\n",
        "ner_labels = []\n",
        "ner_labels_column = []\n",
        "\n",
        "count = 0\n",
        "start = time.time()\n",
        "# For each review in reviews txt\n",
        "#iterate through each review\n",
        "for index, row in amzn_df.loc[:, [\"reviews.text\"]].iterrows():\n",
        "    ner_dict = {}\n",
        "    review = sp(row[\"reviews.text\"])\n",
        "    #for each word in review:\n",
        "    for entity in review.ents:\n",
        "        # add word and tag to dict, add labels to labels list\n",
        "        ner_dict[entity] = entity.label_\n",
        "        ner_labels.append(entity.label_)\n",
        "    # add the dict for this review to the ner.labels column list\n",
        "    ner_labels_column.append(ner_dict)\n",
        "    # time & entries\n",
        "    sec = time.time() - start\n",
        "    count = count + 1\n",
        "    if count%1000==0:\n",
        "        print(\"Time elapsed:\", (timedelta(seconds=sec)), \"Entries Complete:\", count)\n",
        "\n",
        "print(\"Process complete.\")"
      ]
    },
    {
      "cell_type": "code",
      "execution_count": null,
      "id": "286a8602",
      "metadata": {
        "id": "286a8602",
        "outputId": "36c5c0ea-02fa-4075-bb23-2f3137da9df5"
      },
      "outputs": [
        {
          "data": {
            "text/html": [
              "<div>\n",
              "<style scoped>\n",
              "    .dataframe tbody tr th:only-of-type {\n",
              "        vertical-align: middle;\n",
              "    }\n",
              "\n",
              "    .dataframe tbody tr th {\n",
              "        vertical-align: top;\n",
              "    }\n",
              "\n",
              "    .dataframe thead th {\n",
              "        text-align: right;\n",
              "    }\n",
              "</style>\n",
              "<table border=\"1\" class=\"dataframe\">\n",
              "  <thead>\n",
              "    <tr style=\"text-align: right;\">\n",
              "      <th></th>\n",
              "      <th>reviews.doRecommend</th>\n",
              "      <th>reviews.text</th>\n",
              "      <th>pos.tags</th>\n",
              "      <th>ner.labels</th>\n",
              "    </tr>\n",
              "  </thead>\n",
              "  <tbody>\n",
              "    <tr>\n",
              "      <th>0</th>\n",
              "      <td>1.0</td>\n",
              "      <td>This product so far has not disappointed. My c...</td>\n",
              "      <td>{This: 'DT', product: 'NN', so: 'RB', far: 'RB...</td>\n",
              "      <td>{}</td>\n",
              "    </tr>\n",
              "    <tr>\n",
              "      <th>1</th>\n",
              "      <td>1.0</td>\n",
              "      <td>great for beginner or experienced person. Boug...</td>\n",
              "      <td>{great: 'JJ', for: 'IN', beginner: 'NN', or: '...</td>\n",
              "      <td>{}</td>\n",
              "    </tr>\n",
              "    <tr>\n",
              "      <th>2</th>\n",
              "      <td>1.0</td>\n",
              "      <td>Inexpensive tablet for him to use and learn on...</td>\n",
              "      <td>{Inexpensive: 'JJ', tablet: 'NN', for: 'IN', h...</td>\n",
              "      <td>{(Skype): 'ORG'}</td>\n",
              "    </tr>\n",
              "    <tr>\n",
              "      <th>3</th>\n",
              "      <td>1.0</td>\n",
              "      <td>I've had my Fire HD 8 two weeks now and I love...</td>\n",
              "      <td>{I: 'PRP', 've: 'VBP', had: 'VBN', my: 'PRP$',...</td>\n",
              "      <td>{(8, two, weeks): 'DATE', (SHINES): 'ORG', (12...</td>\n",
              "    </tr>\n",
              "    <tr>\n",
              "      <th>4</th>\n",
              "      <td>1.0</td>\n",
              "      <td>I bought this for my grand daughter when she c...</td>\n",
              "      <td>{I: 'PRP', bought: 'VBD', this: 'DT', for: 'IN...</td>\n",
              "      <td>{(Amazon): 'ORG', (64gig): 'CARDINAL', (hundre...</td>\n",
              "    </tr>\n",
              "  </tbody>\n",
              "</table>\n",
              "</div>"
            ],
            "text/plain": [
              "   reviews.doRecommend                                       reviews.text  \\\n",
              "0                  1.0  This product so far has not disappointed. My c...   \n",
              "1                  1.0  great for beginner or experienced person. Boug...   \n",
              "2                  1.0  Inexpensive tablet for him to use and learn on...   \n",
              "3                  1.0  I've had my Fire HD 8 two weeks now and I love...   \n",
              "4                  1.0  I bought this for my grand daughter when she c...   \n",
              "\n",
              "                                            pos.tags  \\\n",
              "0  {This: 'DT', product: 'NN', so: 'RB', far: 'RB...   \n",
              "1  {great: 'JJ', for: 'IN', beginner: 'NN', or: '...   \n",
              "2  {Inexpensive: 'JJ', tablet: 'NN', for: 'IN', h...   \n",
              "3  {I: 'PRP', 've: 'VBP', had: 'VBN', my: 'PRP$',...   \n",
              "4  {I: 'PRP', bought: 'VBD', this: 'DT', for: 'IN...   \n",
              "\n",
              "                                          ner.labels  \n",
              "0                                                 {}  \n",
              "1                                                 {}  \n",
              "2                                   {(Skype): 'ORG'}  \n",
              "3  {(8, two, weeks): 'DATE', (SHINES): 'ORG', (12...  \n",
              "4  {(Amazon): 'ORG', (64gig): 'CARDINAL', (hundre...  "
            ]
          },
          "execution_count": 12,
          "metadata": {},
          "output_type": "execute_result"
        }
      ],
      "source": [
        "amzn_df[\"ner.labels\"] = ner_labels_column\n",
        "amzn_df.head()"
      ]
    },
    {
      "cell_type": "markdown",
      "id": "bcd4f8b5",
      "metadata": {
        "id": "bcd4f8b5"
      },
      "source": [
        "### POS Frequency Distribution"
      ]
    },
    {
      "cell_type": "code",
      "execution_count": null,
      "id": "48e1da2d",
      "metadata": {
        "id": "48e1da2d",
        "outputId": "ae35bdc5-9e70-4a7f-9c93-84c1f84f1316"
      },
      "outputs": [
        {
          "name": "stdout",
          "output_type": "stream",
          "text": [
            "Counter({'NN': 155996, 'IN': 105268, 'DT': 102932, 'PRP': 98263, 'JJ': 88543, '.': 85910, 'RB': 72311, 'VB': 56141, 'VBZ': 49369, 'CC': 45323, 'NNS': 43902, 'NNP': 40813, 'VBP': 34126, 'VBD': 29805, ',': 27130, 'TO': 25588, 'PRP$': 25148, 'VBG': 18782, 'MD': 15817, 'VBN': 15346, 'CD': 13278, 'JJR': 7019, 'RP': 6743, 'WRB': 4395, 'WDT': 4229, 'WP': 3287, 'JJS': 2860, ':': 2641, 'RBR': 2596, 'HYPH': 1888, 'PDT': 1874, '-LRB-': 1551, '-RRB-': 1551, '$': 1245, 'EX': 1214, \"''\": 1138, 'POS': 1138, '``': 1062, 'UH': 1054, 'FW': 1033, 'SYM': 813, 'NNPS': 588, 'NFP': 554, 'RBS': 325, 'LS': 66, 'ADD': 57, 'XX': 54, '_SP': 26, 'AFX': 25, 'WP$': 10})\n"
          ]
        }
      ],
      "source": [
        "# With the big collection of POS tags, show the count of each.\n",
        "print(Counter(tags))"
      ]
    },
    {
      "cell_type": "code",
      "execution_count": null,
      "id": "1b72c05c",
      "metadata": {
        "id": "1b72c05c",
        "outputId": "5fe73b3b-f9fb-4e21-b9d4-00903bd486e1"
      },
      "outputs": [
        {
          "data": {
            "image/png": "[encoded data removed]",
            "text/plain": [
              "<Figure size 966.158x288 with 1 Axes>"
            ]
          },
          "metadata": {
            "needs_background": "light"
          },
          "output_type": "display_data"
        }
      ],
      "source": [
        "#plot counter as bar plot to show frequency distribution of POS tags in dataset\n",
        "freq_dist = Counter(tags)\n",
        "plt.bar(freq_dist.keys(), freq_dist.values())\n",
        "plt.xticks(rotation=45)\n",
        "plt.title(\"Frequency Distribution of POS tags in Amazon Reviews Dataset.\")\n",
        "#solution from stack overflow starts here\n",
        "# I needed a way to make the plot wider, keeping font size readable and spacing the ticks\n",
        "# on the X axis so the labels weren't touching\n",
        "plt.gca().margins(x=0)\n",
        "plt.gcf().canvas.draw()\n",
        "tl = plt.gca().get_xticklabels()\n",
        "maxsize = max([t.get_window_extent().width for t in tl])\n",
        "m = 0.2 # inch margin\n",
        "s = maxsize/plt.gcf().dpi*35+2*m\n",
        "margin = m/plt.gcf().get_size_inches()[0]\n",
        "\n",
        "plt.gcf().subplots_adjust(left=margin, right=1.-margin)\n",
        "plt.gcf().set_size_inches(s, plt.gcf().get_size_inches()[1])\n",
        "# solution from ImportanceOfBeingEarnest (2017)\n",
        "\n"
      ]
    },
    {
      "cell_type": "markdown",
      "id": "ebf09fd5",
      "metadata": {
        "id": "ebf09fd5"
      },
      "source": [
        "### NER Top K Most Frequent"
      ]
    },
    {
      "cell_type": "code",
      "execution_count": null,
      "id": "11d806f0",
      "metadata": {
        "id": "11d806f0",
        "outputId": "9a52d1dd-2832-467a-c122-a66e5c8e43c4"
      },
      "outputs": [
        {
          "name": "stdout",
          "output_type": "stream",
          "text": [
            "Counter({'ORG': 13751, 'CARDINAL': 6222, 'DATE': 6035, 'PERSON': 3347, 'ORDINAL': 2108, 'LOC': 1724, 'GPE': 1602, 'MONEY': 1428, 'TIME': 965, 'WORK_OF_ART': 595, 'FAC': 468, 'PRODUCT': 294, 'EVENT': 287, 'QUANTITY': 283, 'NORP': 254, 'PERCENT': 111, 'LAW': 28, 'LANGUAGE': 17})\n"
          ]
        }
      ],
      "source": [
        "# Most common NER labels:\n",
        "print(Counter(ner_labels))"
      ]
    },
    {
      "cell_type": "markdown",
      "id": "53c4fb6a",
      "metadata": {
        "id": "53c4fb6a"
      },
      "source": [
        "As shown by the Counter object in the output above, the most common NER label is ORG with 13751 occurrences."
      ]
    },
    {
      "cell_type": "markdown",
      "id": "de100d3a",
      "metadata": {
        "id": "de100d3a"
      },
      "source": [
        "### Sentiment Analysis: Customer Reviews\n",
        "Workflow:\n",
        "- Text normalisation\n",
        "- Tokenisation\n",
        "- Logistic Regression model\n",
        "\n",
        "I decided to lemmatize but not stem my words during normalization because I wanted to retain more meaning."
      ]
    },
    {
      "cell_type": "code",
      "execution_count": null,
      "id": "c7505b67",
      "metadata": {
        "id": "c7505b67"
      },
      "outputs": [],
      "source": [
        "# Text normalisation\n",
        "def normalize(text):\n",
        "    \"\"\"Takes a string and cleans it by expanding contractions and removing punctuation,\n",
        "    digits, newlines, excess spaces, stop words, and words with a length less than 3.\n",
        "    Returns clean string.\"\"\"\n",
        "\n",
        "    #print(\"Cleaning text...\")\n",
        "\n",
        "    # Expand contractions\n",
        "    text = contractions.fix(text, slang=False)\n",
        "\n",
        "    # Remove punctuation and digits\n",
        "    digits = r'[0-9]'\n",
        "    text = re.sub(digits, '', text)\n",
        "    for punct in list(string.punctuation):\n",
        "        if punct in text:\n",
        "            text = text.replace(punct, \"\")\n",
        "\n",
        "    # Make text lowercase and replace newline characters\n",
        "    text = text.lower().replace(\"\\n\", \" \")\n",
        "\n",
        "    # Remove any word with a length of < 3 (all 2 letter words in this context may be\n",
        "    # treated as stop words)\n",
        "    # This also removes excess spaces\n",
        "    text_list = text.split()\n",
        "    new_list = []\n",
        "    stop_words = list(ENGLISH_STOP_WORDS)\n",
        "    for word in text_list:\n",
        "        if len(word) > 2:\n",
        "            new_list.append(word)\n",
        "\n",
        "    # Remove stop words\n",
        "    #print(\"Removing stop words. This may take a couple of minutes, please wait...\")\n",
        "    for word in stop_words:\n",
        "        while word in new_list:\n",
        "            new_list.remove(word)\n",
        "    text = \" \".join(new_list)\n",
        "\n",
        "    # Tokenization\n",
        "    #tokens = nltk.word_tokenize(text)\n",
        "\n",
        "    # Lemmatization\n",
        "    #print(\"Lemmatizing...\")\n",
        "    # Process the text using spaCy (Credit to this solution to geeksforgeeks)\n",
        "    doc = sp(text)\n",
        "\n",
        "    # Extract lemmatized tokens\n",
        "    lemmatized_tokens = [token.lemma_ for token in doc]\n",
        "\n",
        "    # Join the lemmatized tokens into a sentence\n",
        "    lemmatized_text = ' '.join(lemmatized_tokens)\n",
        "\n",
        "    #print(\"Preprocessing complete!\")\n",
        "    return lemmatized_text"
      ]
    },
    {
      "cell_type": "code",
      "execution_count": null,
      "id": "1d053845",
      "metadata": {
        "id": "1d053845",
        "outputId": "3a82a3a8-ab98-4398-95e7-5e843492a4c8"
      },
      "outputs": [
        {
          "name": "stdout",
          "output_type": "stream",
          "text": [
            "product far disappointed child love use like ability monitor control content ease\n"
          ]
        }
      ],
      "source": [
        "# Text normalization and tokenization demo\n",
        "print(normalize(\"This product so far has not disappointed. My children love to use it and I like the ability to monitor control what content they see with ease.\"))"
      ]
    },
    {
      "cell_type": "code",
      "execution_count": null,
      "id": "8350039f",
      "metadata": {
        "id": "8350039f",
        "outputId": "778c5c03-3273-41e2-9452-3b46e156608e"
      },
      "outputs": [
        {
          "name": "stdout",
          "output_type": "stream",
          "text": [
            "Time elapsed: 0:00:46.433378 Entries Complete: 10000\n",
            "Time elapsed: 0:01:33.283525 Entries Complete: 20000\n",
            "Time elapsed: 0:02:21.926600 Entries Complete: 30000\n",
            "Process complete.\n"
          ]
        }
      ],
      "source": [
        "# Create new column for normalized reviews\n",
        "review_tokens_column = []\n",
        "\n",
        "count = 0\n",
        "start = time.time()\n",
        "# For each review in reviews txt\n",
        "#iterate through each review\n",
        "for index, row in amzn_df.loc[:, [\"reviews.text\"]].iterrows():\n",
        "    review_tokens_column.append(normalize(row[\"reviews.text\"]))\n",
        "    # time & entries\n",
        "    sec = time.time() - start\n",
        "    count = count + 1\n",
        "    if count%10000==0:\n",
        "         print(\"Time elapsed:\", (timedelta(seconds=sec)), \"Entries Complete:\", count)\n",
        "\n",
        "print(\"Process complete.\")"
      ]
    },
    {
      "cell_type": "code",
      "execution_count": null,
      "id": "041cef96",
      "metadata": {
        "id": "041cef96",
        "outputId": "40cf934d-61f1-4334-8e48-b49f1c3668b4"
      },
      "outputs": [
        {
          "data": {
            "text/html": [
              "<div>\n",
              "<style scoped>\n",
              "    .dataframe tbody tr th:only-of-type {\n",
              "        vertical-align: middle;\n",
              "    }\n",
              "\n",
              "    .dataframe tbody tr th {\n",
              "        vertical-align: top;\n",
              "    }\n",
              "\n",
              "    .dataframe thead th {\n",
              "        text-align: right;\n",
              "    }\n",
              "</style>\n",
              "<table border=\"1\" class=\"dataframe\">\n",
              "  <thead>\n",
              "    <tr style=\"text-align: right;\">\n",
              "      <th></th>\n",
              "      <th>reviews.doRecommend</th>\n",
              "      <th>reviews.text</th>\n",
              "      <th>pos.tags</th>\n",
              "      <th>ner.labels</th>\n",
              "      <th>reviews.tokens</th>\n",
              "    </tr>\n",
              "  </thead>\n",
              "  <tbody>\n",
              "    <tr>\n",
              "      <th>0</th>\n",
              "      <td>1.0</td>\n",
              "      <td>This product so far has not disappointed. My c...</td>\n",
              "      <td>{This: 'DT', product: 'NN', so: 'RB', far: 'RB...</td>\n",
              "      <td>{}</td>\n",
              "      <td>product far disappointed child love use like a...</td>\n",
              "    </tr>\n",
              "    <tr>\n",
              "      <th>1</th>\n",
              "      <td>1.0</td>\n",
              "      <td>great for beginner or experienced person. Boug...</td>\n",
              "      <td>{great: 'JJ', for: 'IN', beginner: 'NN', or: '...</td>\n",
              "      <td>{}</td>\n",
              "      <td>great beginner experience person buy gift love</td>\n",
              "    </tr>\n",
              "    <tr>\n",
              "      <th>2</th>\n",
              "      <td>1.0</td>\n",
              "      <td>Inexpensive tablet for him to use and learn on...</td>\n",
              "      <td>{Inexpensive: 'JJ', tablet: 'NN', for: 'IN', h...</td>\n",
              "      <td>{(Skype): 'ORG'}</td>\n",
              "      <td>inexpensive tablet use learn step nabi thrille...</td>\n",
              "    </tr>\n",
              "    <tr>\n",
              "      <th>3</th>\n",
              "      <td>1.0</td>\n",
              "      <td>I've had my Fire HD 8 two weeks now and I love...</td>\n",
              "      <td>{I: 'PRP', 've: 'VBP', had: 'VBN', my: 'PRP$',...</td>\n",
              "      <td>{(8, two, weeks): 'DATE', (SHINES): 'ORG', (12...</td>\n",
              "      <td>week love tablet great valuewe prime members t...</td>\n",
              "    </tr>\n",
              "    <tr>\n",
              "      <th>4</th>\n",
              "      <td>1.0</td>\n",
              "      <td>I bought this for my grand daughter when she c...</td>\n",
              "      <td>{I: 'PRP', bought: 'VBD', this: 'DT', for: 'IN...</td>\n",
              "      <td>{(Amazon): 'ORG', (64gig): 'CARDINAL', (hundre...</td>\n",
              "      <td>buy grand daughter come visit set user enter a...</td>\n",
              "    </tr>\n",
              "  </tbody>\n",
              "</table>\n",
              "</div>"
            ],
            "text/plain": [
              "   reviews.doRecommend                                       reviews.text  \\\n",
              "0                  1.0  This product so far has not disappointed. My c...   \n",
              "1                  1.0  great for beginner or experienced person. Boug...   \n",
              "2                  1.0  Inexpensive tablet for him to use and learn on...   \n",
              "3                  1.0  I've had my Fire HD 8 two weeks now and I love...   \n",
              "4                  1.0  I bought this for my grand daughter when she c...   \n",
              "\n",
              "                                            pos.tags  \\\n",
              "0  {This: 'DT', product: 'NN', so: 'RB', far: 'RB...   \n",
              "1  {great: 'JJ', for: 'IN', beginner: 'NN', or: '...   \n",
              "2  {Inexpensive: 'JJ', tablet: 'NN', for: 'IN', h...   \n",
              "3  {I: 'PRP', 've: 'VBP', had: 'VBN', my: 'PRP$',...   \n",
              "4  {I: 'PRP', bought: 'VBD', this: 'DT', for: 'IN...   \n",
              "\n",
              "                                          ner.labels  \\\n",
              "0                                                 {}   \n",
              "1                                                 {}   \n",
              "2                                   {(Skype): 'ORG'}   \n",
              "3  {(8, two, weeks): 'DATE', (SHINES): 'ORG', (12...   \n",
              "4  {(Amazon): 'ORG', (64gig): 'CARDINAL', (hundre...   \n",
              "\n",
              "                                      reviews.tokens  \n",
              "0  product far disappointed child love use like a...  \n",
              "1     great beginner experience person buy gift love  \n",
              "2  inexpensive tablet use learn step nabi thrille...  \n",
              "3  week love tablet great valuewe prime members t...  \n",
              "4  buy grand daughter come visit set user enter a...  "
            ]
          },
          "execution_count": 19,
          "metadata": {},
          "output_type": "execute_result"
        }
      ],
      "source": [
        "#amzn_df = amzn_df.drop([\"reviews.tokens\"], axis=1)\n",
        "amzn_df[\"reviews.tokens\"] = review_tokens_column\n",
        "amzn_df.head()"
      ]
    },
    {
      "cell_type": "code",
      "execution_count": null,
      "id": "7a7b0f27",
      "metadata": {
        "id": "7a7b0f27"
      },
      "outputs": [],
      "source": [
        "# The reviews.doRecommend contains some empty values so I'll drop those\n",
        "amzn_df.dropna(subset=['reviews.doRecommend'], inplace=True)"
      ]
    },
    {
      "cell_type": "code",
      "execution_count": null,
      "id": "ead6ef47",
      "metadata": {
        "id": "ead6ef47",
        "outputId": "ec5149d0-d677-4cb0-9855-4b3f1116ebe6"
      },
      "outputs": [
        {
          "data": {
            "text/html": [
              "<div>\n",
              "<style scoped>\n",
              "    .dataframe tbody tr th:only-of-type {\n",
              "        vertical-align: middle;\n",
              "    }\n",
              "\n",
              "    .dataframe tbody tr th {\n",
              "        vertical-align: top;\n",
              "    }\n",
              "\n",
              "    .dataframe thead th {\n",
              "        text-align: right;\n",
              "    }\n",
              "</style>\n",
              "<table border=\"1\" class=\"dataframe\">\n",
              "  <thead>\n",
              "    <tr style=\"text-align: right;\">\n",
              "      <th></th>\n",
              "      <th>reviews.doRecommend</th>\n",
              "      <th>reviews.text</th>\n",
              "      <th>pos.tags</th>\n",
              "      <th>ner.labels</th>\n",
              "      <th>reviews.tokens</th>\n",
              "    </tr>\n",
              "  </thead>\n",
              "  <tbody>\n",
              "    <tr>\n",
              "      <th>0</th>\n",
              "      <td>1.0</td>\n",
              "      <td>This product so far has not disappointed. My c...</td>\n",
              "      <td>{This: 'DT', product: 'NN', so: 'RB', far: 'RB...</td>\n",
              "      <td>{}</td>\n",
              "      <td>product far disappointed child love use like a...</td>\n",
              "    </tr>\n",
              "    <tr>\n",
              "      <th>1</th>\n",
              "      <td>1.0</td>\n",
              "      <td>great for beginner or experienced person. Boug...</td>\n",
              "      <td>{great: 'JJ', for: 'IN', beginner: 'NN', or: '...</td>\n",
              "      <td>{}</td>\n",
              "      <td>great beginner experience person buy gift love</td>\n",
              "    </tr>\n",
              "    <tr>\n",
              "      <th>2</th>\n",
              "      <td>1.0</td>\n",
              "      <td>Inexpensive tablet for him to use and learn on...</td>\n",
              "      <td>{Inexpensive: 'JJ', tablet: 'NN', for: 'IN', h...</td>\n",
              "      <td>{(Skype): 'ORG'}</td>\n",
              "      <td>inexpensive tablet use learn step nabi thrille...</td>\n",
              "    </tr>\n",
              "    <tr>\n",
              "      <th>3</th>\n",
              "      <td>1.0</td>\n",
              "      <td>I've had my Fire HD 8 two weeks now and I love...</td>\n",
              "      <td>{I: 'PRP', 've: 'VBP', had: 'VBN', my: 'PRP$',...</td>\n",
              "      <td>{(8, two, weeks): 'DATE', (SHINES): 'ORG', (12...</td>\n",
              "      <td>week love tablet great valuewe prime members t...</td>\n",
              "    </tr>\n",
              "    <tr>\n",
              "      <th>4</th>\n",
              "      <td>1.0</td>\n",
              "      <td>I bought this for my grand daughter when she c...</td>\n",
              "      <td>{I: 'PRP', bought: 'VBD', this: 'DT', for: 'IN...</td>\n",
              "      <td>{(Amazon): 'ORG', (64gig): 'CARDINAL', (hundre...</td>\n",
              "      <td>buy grand daughter come visit set user enter a...</td>\n",
              "    </tr>\n",
              "  </tbody>\n",
              "</table>\n",
              "</div>"
            ],
            "text/plain": [
              "   reviews.doRecommend                                       reviews.text  \\\n",
              "0                  1.0  This product so far has not disappointed. My c...   \n",
              "1                  1.0  great for beginner or experienced person. Boug...   \n",
              "2                  1.0  Inexpensive tablet for him to use and learn on...   \n",
              "3                  1.0  I've had my Fire HD 8 two weeks now and I love...   \n",
              "4                  1.0  I bought this for my grand daughter when she c...   \n",
              "\n",
              "                                            pos.tags  \\\n",
              "0  {This: 'DT', product: 'NN', so: 'RB', far: 'RB...   \n",
              "1  {great: 'JJ', for: 'IN', beginner: 'NN', or: '...   \n",
              "2  {Inexpensive: 'JJ', tablet: 'NN', for: 'IN', h...   \n",
              "3  {I: 'PRP', 've: 'VBP', had: 'VBN', my: 'PRP$',...   \n",
              "4  {I: 'PRP', bought: 'VBD', this: 'DT', for: 'IN...   \n",
              "\n",
              "                                          ner.labels  \\\n",
              "0                                                 {}   \n",
              "1                                                 {}   \n",
              "2                                   {(Skype): 'ORG'}   \n",
              "3  {(8, two, weeks): 'DATE', (SHINES): 'ORG', (12...   \n",
              "4  {(Amazon): 'ORG', (64gig): 'CARDINAL', (hundre...   \n",
              "\n",
              "                                      reviews.tokens  \n",
              "0  product far disappointed child love use like a...  \n",
              "1     great beginner experience person buy gift love  \n",
              "2  inexpensive tablet use learn step nabi thrille...  \n",
              "3  week love tablet great valuewe prime members t...  \n",
              "4  buy grand daughter come visit set user enter a...  "
            ]
          },
          "execution_count": 21,
          "metadata": {},
          "output_type": "execute_result"
        }
      ],
      "source": [
        "amzn_df.head()"
      ]
    },
    {
      "cell_type": "code",
      "execution_count": null,
      "id": "35f48b40",
      "metadata": {
        "id": "35f48b40"
      },
      "outputs": [],
      "source": [
        "X = amzn_df[\"reviews.tokens\"]  # features\n",
        "y = amzn_df[\"reviews.doRecommend\"] # label"
      ]
    },
    {
      "cell_type": "code",
      "execution_count": null,
      "id": "5a173831",
      "metadata": {
        "id": "5a173831"
      },
      "outputs": [],
      "source": [
        "# Split dataset into 80 train, 20 test\n",
        "X_train, X_test, y_train, y_test = train_test_split(X, y, test_size=0.2, random_state=42)"
      ]
    },
    {
      "cell_type": "code",
      "execution_count": null,
      "id": "e8089e7c",
      "metadata": {
        "id": "e8089e7c",
        "outputId": "30c6b3c8-963a-4082-d1ea-4bf7c1c05513"
      },
      "outputs": [
        {
          "data": {
            "text/plain": [
              "LogisticRegression(max_iter=1000)"
            ]
          },
          "execution_count": 24,
          "metadata": {},
          "output_type": "execute_result"
        }
      ],
      "source": [
        "# Vectorizer\n",
        "vectorizer = CountVectorizer().fit(X_train)\n",
        "train_v = vectorizer.transform(X_train)\n",
        "test_v = vectorizer.transform(X_test)\n",
        "\n",
        "# Train the model\n",
        "model = LogisticRegression(max_iter=1000)\n",
        "model.fit(X=train_v, y=y_train)\n",
        "\n",
        "# I had to set max_iter to avoid a warning that kept being output"
      ]
    },
    {
      "cell_type": "code",
      "execution_count": null,
      "id": "bd7e073e",
      "metadata": {
        "id": "bd7e073e",
        "outputId": "dd373ed3-da85-4a07-9061-71cda1da4566"
      },
      "outputs": [
        {
          "name": "stdout",
          "output_type": "stream",
          "text": [
            "Number of features:  12474\n",
            "Training accuracy:  97.66%\n",
            "Test accuracy:      95.99%\n",
            "              precision    recall  f1-score   support\n",
            "\n",
            "         0.0       0.51      0.25      0.34       277\n",
            "         1.0       0.97      0.99      0.98      6537\n",
            "\n",
            "    accuracy                           0.96      6814\n",
            "   macro avg       0.74      0.62      0.66      6814\n",
            "weighted avg       0.95      0.96      0.95      6814\n",
            "\n",
            "\n"
          ]
        }
      ],
      "source": [
        "# Classification report\n",
        "predictions = model.predict(X=test_v)\n",
        "report = classification_report(y_test, predictions)\n",
        "\n",
        "print(\"Number of features: {:6d}\".format(len(vectorizer.get_feature_names_out())))\n",
        "print(\"Training accuracy:  {:.2%}\".format(model.score(train_v, y_train)))\n",
        "print(\"Test accuracy:      {:.2%}\".format(model.score(test_v, y_test)))\n",
        "print(report)\n",
        "print()"
      ]
    },
    {
      "cell_type": "markdown",
      "id": "bef8ae77",
      "metadata": {
        "id": "bef8ae77"
      },
      "source": [
        "Since the question doesn't specify to evaluate the performance or perform any tuning, I will move on to using RNN for sentiment analysis."
      ]
    },
    {
      "cell_type": "markdown",
      "id": "bbdd63ec",
      "metadata": {
        "id": "bbdd63ec"
      },
      "source": [
        "### Sentiment Analysis: Movie Reviews\n",
        " Workflow:\n",
        "- Text normalisation\n",
        "- Tokenisation\n",
        "- Text embedding (word2vec)\n",
        "- Building an RNN (Bidirectional LSTM)\n",
        "- Performance Evaluation"
      ]
    },
    {
      "cell_type": "markdown",
      "id": "90e48341",
      "metadata": {
        "id": "90e48341"
      },
      "source": [
        "### Data\n",
        "\n",
        "The data used for this portion is a movie reviews dataset available here: https://www.kaggle.com/datasets/yasserh/imdb-movie-ratings-sentiment-analysis\n",
        "\n",
        "The File I will use is movie.csv."
      ]
    },
    {
      "cell_type": "code",
      "execution_count": null,
      "id": "e848ef9f",
      "metadata": {
        "id": "e848ef9f",
        "outputId": "8fb99743-d36c-457d-d877-ae449368b7be"
      },
      "outputs": [
        {
          "data": {
            "text/html": [
              "<div>\n",
              "<style scoped>\n",
              "    .dataframe tbody tr th:only-of-type {\n",
              "        vertical-align: middle;\n",
              "    }\n",
              "\n",
              "    .dataframe tbody tr th {\n",
              "        vertical-align: top;\n",
              "    }\n",
              "\n",
              "    .dataframe thead th {\n",
              "        text-align: right;\n",
              "    }\n",
              "</style>\n",
              "<table border=\"1\" class=\"dataframe\">\n",
              "  <thead>\n",
              "    <tr style=\"text-align: right;\">\n",
              "      <th></th>\n",
              "      <th>text</th>\n",
              "      <th>label</th>\n",
              "    </tr>\n",
              "  </thead>\n",
              "  <tbody>\n",
              "    <tr>\n",
              "      <th>0</th>\n",
              "      <td>I grew up (b. 1965) watching and loving the Th...</td>\n",
              "      <td>0</td>\n",
              "    </tr>\n",
              "    <tr>\n",
              "      <th>1</th>\n",
              "      <td>When I put this movie in my DVD player, and sa...</td>\n",
              "      <td>0</td>\n",
              "    </tr>\n",
              "    <tr>\n",
              "      <th>2</th>\n",
              "      <td>Why do people who do not know what a particula...</td>\n",
              "      <td>0</td>\n",
              "    </tr>\n",
              "    <tr>\n",
              "      <th>3</th>\n",
              "      <td>Even though I have great interest in Biblical ...</td>\n",
              "      <td>0</td>\n",
              "    </tr>\n",
              "    <tr>\n",
              "      <th>4</th>\n",
              "      <td>Im a die hard Dads Army fan and nothing will e...</td>\n",
              "      <td>1</td>\n",
              "    </tr>\n",
              "  </tbody>\n",
              "</table>\n",
              "</div>"
            ],
            "text/plain": [
              "                                                text  label\n",
              "0  I grew up (b. 1965) watching and loving the Th...      0\n",
              "1  When I put this movie in my DVD player, and sa...      0\n",
              "2  Why do people who do not know what a particula...      0\n",
              "3  Even though I have great interest in Biblical ...      0\n",
              "4  Im a die hard Dads Army fan and nothing will e...      1"
            ]
          },
          "execution_count": 2,
          "metadata": {},
          "output_type": "execute_result"
        }
      ],
      "source": [
        "# read the data in\n",
        "movies_df = pd.read_csv(\"movie.csv\")\n",
        "movies_df.head()"
      ]
    },
    {
      "cell_type": "markdown",
      "id": "3499d764",
      "metadata": {
        "id": "3499d764"
      },
      "source": [
        "Even when running this part of the notebook in isolation, with all applications closed, and deleting variables as I no longer needed them, my laptop was hitting 100% memory and crashing whenever I tried to actually train the RNN. So, I had to cut the dataset by 25,000 items, reduce the word2vec vector size, and decrease number of neurons, and decrease batch size and tweak a few other parameters."
      ]
    },
    {
      "cell_type": "code",
      "execution_count": null,
      "id": "54b90208",
      "metadata": {
        "id": "54b90208"
      },
      "outputs": [],
      "source": [
        "movies_df.drop(movies_df.tail(25000).index,\n",
        "        inplace = True)"
      ]
    },
    {
      "cell_type": "code",
      "execution_count": null,
      "id": "a339c907",
      "metadata": {
        "id": "a339c907",
        "outputId": "3f0c4097-058c-4786-98e1-58237633d617"
      },
      "outputs": [
        {
          "data": {
            "text/plain": [
              "15000"
            ]
          },
          "execution_count": 4,
          "metadata": {},
          "output_type": "execute_result"
        }
      ],
      "source": [
        "len(movies_df)"
      ]
    },
    {
      "cell_type": "markdown",
      "id": "4deeed09",
      "metadata": {
        "id": "4deeed09"
      },
      "source": [
        "The function below is a modified version of my previous normalization function which tokenizes the reviews into lists of tokens."
      ]
    },
    {
      "cell_type": "code",
      "execution_count": null,
      "id": "2d3f88ef",
      "metadata": {
        "id": "2d3f88ef"
      },
      "outputs": [],
      "source": [
        "def normalize2vec(text):\n",
        "    #print(\"Cleaning text...\")\n",
        "\n",
        "    # Expand contractions\n",
        "    text = contractions.fix(text, slang=False)\n",
        "\n",
        "    # Remove punctuation and digits\n",
        "    digits = r'[0-9]'\n",
        "    text = re.sub(digits, '', text)\n",
        "    for punct in list(string.punctuation):\n",
        "        if punct in text:\n",
        "            text = text.replace(punct, \"\")\n",
        "\n",
        "    # Make text lowercase and replace newline characters\n",
        "    text = text.replace(\"\\n\", \" \")\n",
        "\n",
        "    # Tokenization\n",
        "    tokens = nltk.word_tokenize(text)\n",
        "\n",
        "    #print(\"Preprocessing complete!\")\n",
        "    return tokens"
      ]
    },
    {
      "cell_type": "code",
      "execution_count": null,
      "id": "81cdd489",
      "metadata": {
        "id": "81cdd489",
        "outputId": "3f164767-f81d-4ab3-f2b0-305c9da526cb"
      },
      "outputs": [
        {
          "name": "stdout",
          "output_type": "stream",
          "text": [
            "Time elapsed: 0:00:05.784805 Entries Complete: 10000\n",
            "Process complete.\n"
          ]
        }
      ],
      "source": [
        "# List to store tokens\n",
        "review_tokens = []\n",
        "\n",
        "count = 0\n",
        "start = time.time()\n",
        "#iterate through each review\n",
        "for index, row in movies_df.loc[:, [\"text\"]].iterrows():\n",
        "    review_tokens.append(normalize2vec(row[\"text\"]))\n",
        "    # time & entries\n",
        "    sec = time.time() - start\n",
        "    count = count + 1\n",
        "    if count%10000==0:\n",
        "         print(\"Time elapsed:\", (timedelta(seconds=sec)), \"Entries Complete:\", count)\n",
        "\n",
        "print(\"Process complete.\")"
      ]
    },
    {
      "cell_type": "code",
      "execution_count": null,
      "id": "23721a97",
      "metadata": {
        "id": "23721a97",
        "outputId": "dc75f4a4-e65d-4756-8a3c-17852e8c1f82"
      },
      "outputs": [
        {
          "name": "stdout",
          "output_type": "stream",
          "text": [
            "['It', 'may', 'be', 'the', 'remake', 'of', 'Autumns', 'Tale', 'after', 'eleven', 'years', 'as', 'the', 'director', 'Mabel', 'Cheung', 'claimed', 'Mabel', 'employs', 'rock', 'music', 'as', 'the', 'medium', 'in', 'this', 'movie', 'to', 'express', 'her', 'personal', 'attitude', 'to', 'life', 'in', 'which', 'love', 'desire', 'and', 'the', 'consequential', 'frustration', 'play', 'significantly', 'crucial', 'roles', 'Rock', 'music', 'may', 'not', 'be', 'the', 'best', 'vehicle', 'to', 'convey', 'the', 'profound', 'sentiment', 'and', 'yet', 'it', 'is', 'not', 'too', 'inappropriate', 'to', 'utilize', 'it', 'as', 'the', 'life', 'of', 'underground', 'rock', 'musicians', 'is', 'bitterly', 'more', 'intense', 'than', 'an', 'ordinary', 'one', 'The', 'director', 'focuses', 'on', 'the', 'depiction', 'of', 'subtle', 'affection', 'and', 'ultimate', 'vanity', 'of', 'life', 'rather', 'than', 'mere', 'rock', 'music', 'The', 'love', 'between', 'father', 'and', 'son', 'lovers', 'and', 'friends', 'is', 'delicately', 'and', 'touchingly', 'delivered', 'through', 'the', 'fine', 'performance', 'Mabel', 'does', 'not', 'attempt', 'to', 'beautify', 'rock', 'musicians', 'as', 'artists', 'at', 'all', 'instead', 'she', 'tries', 'to', 'reproduce', 'a', 'true', 'life', 'on', 'screen', 'making', 'huge', 'efforts', 'of', 'years', 'working', 'on', 'this', 'project', 'and', 'gathering', 'information', 'in', 'Beijing', 'underground', 'pubsbr', 'br', 'Daniel', 'has', 'given', 'probably', 'the', 'best', 'performance', 'in', 'all', 'his', 'movies', 'made', 'so', 'far', 'His', 'innate', 'dispiritedness', 'and', 'reticence', 'fit', 'the', 'blue', 'mood', 'of', 'the', 'film', 'perfectly']\n",
            "15000\n"
          ]
        }
      ],
      "source": [
        "print(review_tokens[8])\n",
        "print(len(review_tokens))"
      ]
    },
    {
      "cell_type": "code",
      "execution_count": null,
      "id": "dccaa1ef",
      "metadata": {
        "id": "dccaa1ef"
      },
      "outputs": [],
      "source": [
        "# Text embedding with Word2Vec\n",
        "vec_model = Word2Vec(review_tokens,\n",
        "                 min_count=3,   # Ignore words that appear less than this\n",
        "                 vector_size=100,      # Dimensionality of word embeddings\n",
        "                 workers=3,     # Number of processors (parallelisation)\n",
        "                 window=5,      # Context window for words during training\n",
        "                 epochs=30)     # Number of epochs training over corpus"
      ]
    },
    {
      "cell_type": "code",
      "execution_count": null,
      "id": "171d1e32",
      "metadata": {
        "id": "171d1e32",
        "outputId": "300793e9-faf7-47b3-a8bd-dcf699f31a2b"
      },
      "outputs": [
        {
          "name": "stdout",
          "output_type": "stream",
          "text": [
            "106839\n"
          ]
        }
      ],
      "source": [
        "# finding vocab size from my tokens\n",
        "# right now they are a list of lists so I need to make it a single list of tokens\n",
        "all_tokens = [token for sublist in review_tokens for token in sublist]\n",
        "\n",
        "# Calculate the frequency of each token\n",
        "token_counts = Counter(all_tokens)\n",
        "\n",
        "# index mapping\n",
        "word_index = {word: i+1 for i, (word, _) in enumerate(token_counts.items())}\n",
        "\n",
        "# calculate vocab size + 1 for padding\n",
        "vocab_size = len(word_index) + 1\n",
        "print(vocab_size)"
      ]
    },
    {
      "cell_type": "markdown",
      "id": "fa5befa9",
      "metadata": {
        "id": "fa5befa9"
      },
      "source": [
        "To use my Word2Vec model with my RNN for sentiment analysis, I will need to create an embedding matrix to be used in my RNN's embedding layer."
      ]
    },
    {
      "cell_type": "code",
      "execution_count": null,
      "id": "014e7ffc",
      "metadata": {
        "id": "014e7ffc"
      },
      "outputs": [],
      "source": [
        "# create embedding matrix\n",
        "embedding_dim = vec_model.vector_size\n",
        "embedding_matrix = np.zeros((vocab_size, embedding_dim))\n",
        "\n",
        "for word, i in word_index.items():\n",
        "    if word in vec_model.wv:\n",
        "        embedding_vector = vec_model.wv[word]\n",
        "        if embedding_vector is not None:\n",
        "            embedding_matrix[i] = embedding_vector"
      ]
    },
    {
      "cell_type": "code",
      "execution_count": null,
      "id": "495b4728",
      "metadata": {
        "id": "495b4728"
      },
      "outputs": [],
      "source": [
        "# Tokens to index and padding\n",
        "sequences = [[word_index.get(token, 0) for token in sublist] for sublist in review_tokens]\n",
        "\n",
        "# pad the sequences\n",
        "max_length = max(len(s) for s in sequences)\n",
        "padded_sequences = pad_sequences(sequences, maxlen=max_length, padding='post')\n"
      ]
    },
    {
      "cell_type": "code",
      "execution_count": null,
      "id": "7dd160cc",
      "metadata": {
        "id": "7dd160cc",
        "outputId": "0fab1718-ced7-4d78-b9a3-7959d0af8ab4"
      },
      "outputs": [
        {
          "name": "stderr",
          "output_type": "stream",
          "text": [
            "2024-03-09 02:40:36.094227: W tensorflow/stream_executor/platform/default/dso_loader.cc:64] Could not load dynamic library 'libcuda.so.1'; dlerror: libcuda.so.1: cannot open shared object file: No such file or directory\n",
            "2024-03-09 02:40:36.094250: W tensorflow/stream_executor/cuda/cuda_driver.cc:269] failed call to cuInit: UNKNOWN ERROR (303)\n",
            "2024-03-09 02:40:36.094268: I tensorflow/stream_executor/cuda/cuda_diagnostics.cc:156] kernel driver does not appear to be running on this host (budgie-sama): /proc/driver/nvidia/version does not exist\n",
            "2024-03-09 02:40:36.094473: I tensorflow/core/platform/cpu_feature_guard.cc:193] This TensorFlow binary is optimized with oneAPI Deep Neural Network Library (oneDNN) to use the following CPU instructions in performance-critical operations:  AVX2 FMA\n",
            "To enable them in other operations, rebuild TensorFlow with the appropriate compiler flags.\n"
          ]
        }
      ],
      "source": [
        "# Number of neurons/ nodes in hidden state\n",
        "# Reduce if too inefficient on computational resources\n",
        "lstm_out = 50\n",
        "\n",
        "# Create new model\n",
        "model = tf.keras.Sequential()\n",
        "\n",
        "# Embedding layer with Word2Vec model/ embedding matrix\n",
        "model.add(tf.keras.layers.Embedding(input_dim=vocab_size,\n",
        "                    output_dim=embedding_dim,\n",
        "                    weights=[embedding_matrix],\n",
        "                    input_length=max_length,\n",
        "                    trainable=False))\n",
        "\n",
        "# Dropout can be used to prevent overfitting (performing well on training but poorly on new data)\n",
        "# Dropout will turn off some neurons in the neural network in each epoch\n",
        "model.add(tf.keras.layers.SpatialDropout1D(0.4)) # %40 of neurons off during each epoch\n",
        "\n",
        "# Bidirectional RNN: an additional RNN starts at the end of the sequence and goes the other\n",
        "# direction. Two RNNs in total.\n",
        "# included LSTM\n",
        "model.add(tf.keras.layers.Bidirectional(tf.keras.layers.LSTM(lstm_out, dropout=0.05, recurrent_dropout=0.2)))\n",
        "\n",
        "# 2 because bidirectional, activation function is softmax\n",
        "model.add(tf.keras.layers.Dense(2, activation='softmax'))\n",
        "\n",
        "# cat cross entropy is loss function, Adam is an optimizer\n",
        "model.compile(loss = 'categorical_crossentropy', optimizer='adam', metrics = ['accuracy'])"
      ]
    },
    {
      "cell_type": "code",
      "execution_count": null,
      "id": "48f56ec8",
      "metadata": {
        "id": "48f56ec8",
        "outputId": "004e370b-d0ca-4830-e3c4-382bc20af797"
      },
      "outputs": [
        {
          "name": "stdout",
          "output_type": "stream",
          "text": [
            "Model: \"sequential\"\n",
            "_________________________________________________________________\n",
            " Layer (type)                Output Shape              Param #   \n",
            "=================================================================\n",
            " embedding (Embedding)       (None, 2473, 100)         10683900  \n",
            "                                                                 \n",
            " spatial_dropout1d (SpatialD  (None, 2473, 100)        0         \n",
            " ropout1D)                                                       \n",
            "                                                                 \n",
            " bidirectional (Bidirectiona  (None, 100)              60400     \n",
            " l)                                                              \n",
            "                                                                 \n",
            " dense (Dense)               (None, 2)                 202       \n",
            "                                                                 \n",
            "=================================================================\n",
            "Total params: 10,744,502\n",
            "Trainable params: 60,602\n",
            "Non-trainable params: 10,683,900\n",
            "_________________________________________________________________\n"
          ]
        }
      ],
      "source": [
        "model.summary()"
      ]
    },
    {
      "cell_type": "code",
      "execution_count": null,
      "id": "36489753",
      "metadata": {
        "id": "36489753"
      },
      "outputs": [],
      "source": [
        "# Create Y out of binary data (labels)\n",
        "y = pd.get_dummies(movies_df['label'])\n",
        "result_dict = {0: 'Negative', 1: 'Positive'}\n",
        "y_arr = np.vectorize(result_dict.get)(Y.columns)\n"
      ]
    },
    {
      "cell_type": "code",
      "execution_count": null,
      "id": "ac8e7f5a",
      "metadata": {
        "id": "ac8e7f5a"
      },
      "outputs": [],
      "source": [
        "y = y.values"
      ]
    },
    {
      "cell_type": "code",
      "execution_count": null,
      "id": "302cb00c",
      "metadata": {
        "id": "302cb00c"
      },
      "outputs": [],
      "source": [
        "X = padded_sequences"
      ]
    },
    {
      "cell_type": "code",
      "execution_count": null,
      "id": "c23c296c",
      "metadata": {
        "id": "c23c296c"
      },
      "outputs": [],
      "source": [
        "X_train, X_test, y_train, y_test = train_test_split(X, y, test_size = 0.33, random_state = 42)\n"
      ]
    },
    {
      "cell_type": "code",
      "execution_count": null,
      "id": "80c57d96",
      "metadata": {
        "id": "80c57d96"
      },
      "outputs": [],
      "source": [
        "# In an attempt to save memory, I'm clearing this large variable as I don't need it anymore\n",
        "del review_tokens"
      ]
    },
    {
      "cell_type": "code",
      "execution_count": null,
      "id": "18a215e2",
      "metadata": {
        "id": "18a215e2",
        "outputId": "10ea2e57-24e4-499c-af49-4611ee1b202a"
      },
      "outputs": [
        {
          "name": "stdout",
          "output_type": "stream",
          "text": [
            "(10050, 2473) (10050, 2)\n",
            "(4950, 2473) (4950, 2)\n"
          ]
        }
      ],
      "source": [
        "print(X_train.shape, y_train.shape)\n",
        "print(X_test.shape, y_test.shape)"
      ]
    },
    {
      "cell_type": "code",
      "execution_count": null,
      "id": "dfc0fbb9",
      "metadata": {
        "id": "dfc0fbb9",
        "outputId": "b144210e-7326-4be3-dd21-68a9d3293f63"
      },
      "outputs": [
        {
          "name": "stdout",
          "output_type": "stream",
          "text": [
            "Epoch 1/3\n",
            "201/201 - 292s - loss: 0.6750 - accuracy: 0.5754 - 292s/epoch - 1s/step\n",
            "Epoch 2/3\n",
            "201/201 - 297s - loss: 0.5937 - accuracy: 0.6869 - 297s/epoch - 1s/step\n",
            "Epoch 3/3\n",
            "201/201 - 300s - loss: 0.5448 - accuracy: 0.7370 - 300s/epoch - 1s/step\n"
          ]
        },
        {
          "data": {
            "text/plain": [
              "<keras.callbacks.History at 0x7f59946ce610>"
            ]
          },
          "execution_count": 20,
          "metadata": {},
          "output_type": "execute_result"
        }
      ],
      "source": [
        "# Train the model\n",
        "# Small batch size for smaller data (and less memory)\n",
        "# Only 3 epochs due to time constraints\n",
        "model.fit(X_train, y_train, epochs=3, batch_size=50, verbose=2)"
      ]
    },
    {
      "cell_type": "code",
      "execution_count": null,
      "id": "4c0e05ce",
      "metadata": {
        "id": "4c0e05ce",
        "outputId": "acc64460-003e-4dc3-9522-e0e6a374ce5c"
      },
      "outputs": [
        {
          "name": "stdout",
          "output_type": "stream",
          "text": [
            "198/198 - 36s - loss: 0.4589 - accuracy: 0.8022 - 36s/epoch - 183ms/step\n",
            "score: 0.46\n",
            "acc: 0.80\n"
          ]
        }
      ],
      "source": [
        "# Performance evaluation\n",
        "score, acc = model.evaluate(X_test, y_test, verbose=2, batch_size=25)\n",
        "print(\"score: %.2f\" % (score))\n",
        "print(\"acc: %.2f\" % (acc))"
      ]
    },
    {
      "cell_type": "markdown",
      "id": "0e6bfc74",
      "metadata": {
        "id": "0e6bfc74"
      },
      "source": [
        "## Recommender Systems"
      ]
    },
    {
      "cell_type": "markdown",
      "id": "14880171",
      "metadata": {
        "id": "14880171"
      },
      "source": [
        " #### Introduction\n",
        "   A recommender system is a machine-learning model which aims to recommend a product to a person or group of people based on information about them and the product. Recommender systems can find patterns in consumer behaviour, and are the systems behind the personalised adverts we see everywhere online nowadays.\n",
        "\n",
        "\n",
        "#### Three Models of Recommender Systems\n",
        "\n",
        "   In their 2021 paper, Zhang, Liu and Jin describe three main models of recommender system, each with their own strengths and weaknesses: content-based, collaborative filter-based, and knowledge-based. There are other models such as utility-based, demographic-based and hybrid-based (Fayyaz, et al. 2020), but for the sake of brevity the three aforementioned will be explored here.\n",
        "\n",
        "   Content-based recommender systems utilize item descriptions to predict utility based on a user's profile. They extract item properties and compare them with the user's profile to form recommendations. Advantages include user independence, solving the new item cold-start problem (where recommendations are challenging for new items lacking sufficient user interaction data), and providing transparent recommendations. However, they face limitations such as the new user problem (where new users do not have enough data about them) and overspecialization in recommendations.\n",
        "   \n",
        "   Collaborative filtering-based recommender systems infer item utility from other users' ratings. They employ memory-based and model-based techniques. Memory-based CF calculates similarity between users/items using nearest neighbor algorithms, while model-based CF uses machine learning methods like matrix factorization. CF addresses the cold-start problem but suffers from scalability issues and recommendation coverage limitations.\n",
        "\n",
        "   Knowledge-based recommender systems rely on existing knowledge or rules about user needs and item functions. They retain a knowledge base from which recommendations are derived. Case-based reasoning is a common technique. While valuable in domains like house sales and health decision support, setting up and managing the knowledge base incurs high costs despite advantages such as no new item/user problems and user-constraint flexibility.\n",
        "                                                     \n",
        "----------------------------------------------------------------------------------------   (Zhang, Liu & Jin, 2021)\n",
        "                                                               \n",
        "   \n",
        "   \n",
        "#### Recommender System Algorithms & Techniques\n",
        "\n",
        "Many different algorithms and machine learning techniques can be employed when creating, training and deploying recommender systems. The 2021 paper by Zhang, Liu and Jin contains this figure, showing a few of them and their main application areas.\n",
        "![image.png](attachment:image.png)\n",
        "Fig.1 \"AI Areas and Techniques\" (Zhang, Liu & Jin, 2021).\n",
        "\n",
        "\n",
        "   One example of a widely used family of techniques are that of graph neural network (GNN) based techniques. Graph Neural Networks (GNNs) are utilized in recommender systems due to there being a prevalent graph structure in the data used by recommender systems. GNN-based models can model heterogeneous data types in recommender systems, including user-item interactions and structured external information like social relationships among users and item knowledge graphs. GNNs have demonstrated remarkable success in academic research and industrial applications, outperforming previous methods and achieving state-of-the-art results across various recommendation tasks, including session-based, point-of-interest, group, multimedia, and bundle recommendations (Wu et al., 2022).\n",
        "\n",
        "   \n",
        "   "
      ]
    },
    {
      "cell_type": "markdown",
      "id": "09213537",
      "metadata": {
        "id": "09213537"
      },
      "source": [
        "## References\n",
        "ImportanceOfBeingEarnest (2017) *How to change spacing between ticks*. Stackoverflow. Available at: https://stackoverflow.com/questions/44863375/how-to-change-spacing-between-ticks\n",
        "\n",
        "Yash_R (2024) *Python Lemmatization with NLTK*. Geeks for Geeks. Available at: https://www.geeksforgeeks.org/python-lemmatization-with-nltk/\n",
        "\n",
        "Zhang, Q., Lu, J. & Jin, Y. *Artificial intelligence in recommender systems.* Complex Intelligence Systems, 7, 439–457. Available at: https://doi.org/10.1007/s40747-020-00212-whttps://link.springer.com/article/10.1007/s40747-020-00212-w\n",
        "\n",
        "Fayyaz, Z., Ebrahimian, M., Nawara, D., Ibrahim, A. & Kashef, R. (2020) *Recommendation Systems: Algorithms, Challenges, Metrics, and Business Opportunities.* Applied Sciences, 10, 7748. Available at: https://doi.org/10.3390/app10217748\n",
        "\n",
        "Wu, S., Sun, F., Zhang, W., Xie, X. & Cui, B. (2022) *Graph Neural Networks in Recommender\n",
        "Systems: A Survey.* ACM Computing Surveys, 55(5), 97. Available at:\n",
        "https://doi.org/10.1145/3535101"
      ]
    }
  ],
  "metadata": {
    "kernelspec": {
      "display_name": "Python 3 (ipykernel)",
      "language": "python",
      "name": "python3"
    },
    "language_info": {
      "codemirror_mode": {
        "name": "ipython",
        "version": 3
      },
      "file_extension": ".py",
      "mimetype": "text/x-python",
      "name": "python",
      "nbconvert_exporter": "python",
      "pygments_lexer": "ipython3",
      "version": "3.9.12"
    },
    "colab": {
      "provenance": []
    }
  },
  "nbformat": 4,
  "nbformat_minor": 5
}